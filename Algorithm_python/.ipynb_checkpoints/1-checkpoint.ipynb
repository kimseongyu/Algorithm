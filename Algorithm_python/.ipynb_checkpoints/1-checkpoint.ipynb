{
 "cells": [
  {
   "cell_type": "code",
   "execution_count": 1,
   "metadata": {},
   "outputs": [
    {
     "name": "stdout",
     "output_type": "stream",
     "text": [
      "1 2\n",
      "3\n"
     ]
    }
   ],
   "source": [
    "#1000\n",
    "a, b = input().split()\n",
    "print(int(a)+int(b))"
   ]
  },
  {
   "cell_type": "code",
   "execution_count": 2,
   "metadata": {},
   "outputs": [
    {
     "name": "stdout",
     "output_type": "stream",
     "text": [
      "4 3\n",
      "1\n"
     ]
    }
   ],
   "source": [
    "#1001\n",
    "a, b = input().split()\n",
    "print(int(a)-int(b))"
   ]
  },
  {
   "cell_type": "code",
   "execution_count": 11,
   "metadata": {
    "scrolled": true
   },
   "outputs": [
    {
     "name": "stdout",
     "output_type": "stream",
     "text": [
      "1\n",
      "0 0 1 0 2 1\n",
      "1\n"
     ]
    }
   ],
   "source": [
    "#1002\n",
    "t = int(input())\n",
    "for i in range(t):\n",
    "    x1, y1, r1, x2, y2, r2 = input().split()\n",
    "    x1 = int(x1)\n",
    "    y1 = int(y1)\n",
    "    r1 = int(r1)\n",
    "    x2 = int(x2)\n",
    "    y2 = int(y2)\n",
    "    r2 = int(r2)\n",
    "    d = (x1-x2)**2+(y1-y2)**2\n",
    "    add=(r1+r2)**2\n",
    "    minus=(r1-r2)**2\n",
    "    if 0 == d:\n",
    "        if r1 != r2:\n",
    "            print(0)\n",
    "        elif r1 == r2:\n",
    "            print(-1)\n",
    "    else:\n",
    "        if add == d:\n",
    "            print(1)\n",
    "        elif add < d:\n",
    "            print(0)\n",
    "        else add > d:\n",
    "            if minus == d:\n",
    "                print(1)\n",
    "            elif minus < d:\n",
    "                print(2)\n",
    "            elif minus > d:\n",
    "                print(0)"
   ]
  },
  {
   "cell_type": "code",
   "execution_count": null,
   "metadata": {},
   "outputs": [
    {
     "name": "stdout",
     "output_type": "stream",
     "text": [
      "3\n",
      "0\n",
      "0 0\n"
     ]
    }
   ],
   "source": [
    "#1003\n",
    "def num(x):\n",
    "    a = 0\n",
    "    b = 0\n",
    "    def fibonacci(x,a,b):\n",
    "        if x == 0 :\n",
    "            print(0)\n",
    "            a = a + 1\n",
    "            return a, 0\n",
    "        elif x == 1 :\n",
    "            print(1)\n",
    "            b = b + 1\n",
    "            return b, 1\n",
    "        else:\n",
    "            return fibonacci(x-1) + fibonacci(x-2)\n",
    "    print(a,b)\n",
    "    \n",
    "x = input()\n",
    "x = int(x)\n",
    "for i in range(x):\n",
    "    y = input()\n",
    "    y = int(y)\n",
    "    num(y)"
   ]
  },
  {
   "cell_type": "code",
   "execution_count": 5,
   "metadata": {},
   "outputs": [
    {
     "name": "stdout",
     "output_type": "stream",
     "text": [
      "4 5\n",
      "1 3 7 9\n",
      "1\n",
      "3\n"
     ]
    }
   ],
   "source": [
    "a, b = input().split()\n",
    "a = int(a)\n",
    "b = int(b)\n",
    "c = []\n",
    "for i in range(a-1):\n",
    "    c = c + []\n",
    "c[0:a] = input().split()\n",
    "for i in range(a):\n",
    "    c[i] = int(c[i])\n",
    "    if c[i] < b:\n",
    "        print(c[i])"
   ]
  },
  {
   "cell_type": "code",
   "execution_count": 7,
   "metadata": {},
   "outputs": [
    {
     "name": "stdout",
     "output_type": "stream",
     "text": [
      "10\n",
      "3628800\n"
     ]
    }
   ],
   "source": [
    "a = input()\n",
    "a = int(a)\n",
    "b = 1\n",
    "for i in range(a):\n",
    "    b = b * (i+1)\n",
    "print(b)"
   ]
  },
  {
   "cell_type": "code",
   "execution_count": 23,
   "metadata": {},
   "outputs": [
    {
     "name": "stdout",
     "output_type": "stream",
     "text": [
      "5\n",
      "-1 1\n",
      "-1 0\n",
      "0 0\n",
      "1 0\n",
      "1 1\n",
      "7.0\n"
     ]
    }
   ],
   "source": [
    "#1171\n",
    "N = input()\n",
    "N = int(N)\n",
    "x = [0]\n",
    "y = [0]\n",
    "z = 0\n",
    "for i in range(N-1):\n",
    "    x = x + [0]\n",
    "    y = y + [0]\n",
    "for i in range(N):\n",
    "    x[i], y[i] = input().split()\n",
    "    x[i] = int(x[i])\n",
    "    y[i] = int(y[i])\n",
    "for a in range(N):\n",
    "    for b in range(N):\n",
    "        for c in range(N):\n",
    "            if x[a] == x[b] != x[c] & y[a] != y[b] == y[c]:\n",
    "                z = z +1\n",
    "            elif x[a] != x[b] == x[c] & y[a] == y[b] != y[c]:\n",
    "                z = z +1\n",
    "            if x[a]+x[b] == 2 *x [c] & (x[c]-x[a])**2 + (y[c]-y[a])**2 + (x[c]-x[b])**2 + (y[c]-y[b])**2 == (x[b]-x[a])**2 + (y[b]-y[a])**2:\n",
    "                z = z + 1\n",
    "print(int(z/2))"
   ]
  },
  {
   "cell_type": "markdown",
   "metadata": {},
   "source": []
  }
 ],
 "metadata": {
  "kernelspec": {
   "display_name": "Python 3",
   "language": "python",
   "name": "python3"
  },
  "language_info": {
   "codemirror_mode": {
    "name": "ipython",
    "version": 3
   },
   "file_extension": ".py",
   "mimetype": "text/x-python",
   "name": "python",
   "nbconvert_exporter": "python",
   "pygments_lexer": "ipython3",
   "version": "3.7.1"
  }
 },
 "nbformat": 4,
 "nbformat_minor": 2
}
