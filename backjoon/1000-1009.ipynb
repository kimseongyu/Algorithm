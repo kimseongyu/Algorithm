{
 "cells": [
  {
   "cell_type": "code",
   "execution_count": 1,
   "metadata": {},
   "outputs": [
    {
     "name": "stdout",
     "output_type": "stream",
     "text": [
      "1 2\n",
      "3\n"
     ]
    }
   ],
   "source": [
    "a, b = input().split()\n",
    "print(int(a)+int(b))"
   ]
  },
  {
   "cell_type": "code",
   "execution_count": 2,
   "metadata": {},
   "outputs": [
    {
     "name": "stdout",
     "output_type": "stream",
     "text": [
      "4 3\n",
      "1\n"
     ]
    }
   ],
   "source": [
    "a, b = input().split()\n",
    "print(int(a)-int(b))"
   ]
  },
  {
   "cell_type": "code",
   "execution_count": 11,
   "metadata": {},
   "outputs": [
    {
     "name": "stdout",
     "output_type": "stream",
     "text": [
      "1\n",
      "0 0 1 0 2 1\n",
      "1\n"
     ]
    }
   ],
   "source": [
    "t = int(input())\n",
    "for i in range(t):\n",
    "    x1, y1, r1, x2, y2, r2 = input().split()\n",
    "    x1 = int(x1)\n",
    "    y1 = int(y1)\n",
    "    r1 = int(r1)\n",
    "    x2 = int(x2)\n",
    "    y2 = int(y2)\n",
    "    r2 = int(r2)\n",
    "    d = (x1-x2)**2+(y1-y2)**2\n",
    "    add=(r1+r2)**2\n",
    "    minus=(r1-r2)**2\n",
    "    if 0 == d:\n",
    "        if r1 != r2:\n",
    "            print(0)\n",
    "        elif r1 == r2:\n",
    "            print(-1)\n",
    "    else:\n",
    "        if add == d:\n",
    "            print(1)\n",
    "        elif add < d:\n",
    "            print(0)\n",
    "        else add > d:\n",
    "            if minus == d:\n",
    "                print(1)\n",
    "            elif minus < d:\n",
    "                print(2)\n",
    "            elif minus > d:\n",
    "                print(0)"
   ]
  },
  {
   "cell_type": "code",
   "execution_count": null,
   "metadata": {},
   "outputs": [],
   "source": []
  }
 ],
 "metadata": {
  "kernelspec": {
   "display_name": "Python 3",
   "language": "python",
   "name": "python3"
  },
  "language_info": {
   "codemirror_mode": {
    "name": "ipython",
    "version": 3
   },
   "file_extension": ".py",
   "mimetype": "text/x-python",
   "name": "python",
   "nbconvert_exporter": "python",
   "pygments_lexer": "ipython3",
   "version": "3.7.1"
  }
 },
 "nbformat": 4,
 "nbformat_minor": 2
}
